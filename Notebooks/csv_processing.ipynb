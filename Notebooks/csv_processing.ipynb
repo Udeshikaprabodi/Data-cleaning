{
 "cells": [
  {
   "cell_type": "code",
   "execution_count": 2,
   "metadata": {},
   "outputs": [],
   "source": [
    "import pandas as pd"
   ]
  },
  {
   "cell_type": "code",
   "execution_count": 3,
   "metadata": {},
   "outputs": [],
   "source": [
    "df = pd.read_csv('../zara.csv',sep=';')"
   ]
  },
  {
   "cell_type": "code",
   "execution_count": 4,
   "metadata": {},
   "outputs": [
    {
     "name": "stdout",
     "output_type": "stream",
     "text": [
      "   Product ID Product Position Promotion Product Category Seasonal  \\\n",
      "0      185102            Aisle        No         Clothing       No   \n",
      "1      188771            Aisle        No         Clothing       No   \n",
      "2      180176          End-cap       Yes         Clothing      Yes   \n",
      "3      112917            Aisle       Yes         Clothing      Yes   \n",
      "4      192936          End-cap        No         Clothing      Yes   \n",
      "\n",
      "   Sales Volume brand                                                url  \\\n",
      "0          2823  Zara  https://www.zara.com/us/en/basic-puffer-jacket...   \n",
      "1           654  Zara  https://www.zara.com/us/en/tuxedo-jacket-p0889...   \n",
      "2          2220  Zara  https://www.zara.com/us/en/slim-fit-suit-jacke...   \n",
      "3          1568  Zara  https://www.zara.com/us/en/stretch-suit-jacket...   \n",
      "4          2942  Zara  https://www.zara.com/us/en/double-faced-jacket...   \n",
      "\n",
      "                sku                  name  \\\n",
      "0   272145190-250-2   BASIC PUFFER JACKET   \n",
      "1  324052738-800-46         TUXEDO JACKET   \n",
      "2  335342680-800-44  SLIM FIT SUIT JACKET   \n",
      "3  328303236-420-44   STRETCH SUIT JACKET   \n",
      "4   312368260-800-2   DOUBLE FACED JACKET   \n",
      "\n",
      "                                         description   price currency  \\\n",
      "0  Puffer jacket made of tear-resistant ripstop f...   19.99      USD   \n",
      "1  Straight fit blazer. Pointed lapel collar and ...  169.00      USD   \n",
      "2  Slim fit jacket. Notched lapel collar. Long sl...  129.00      USD   \n",
      "3  Slim fit jacket made of viscose blend fabric. ...  129.00      USD   \n",
      "4  Jacket made of faux leather faux shearling wit...  139.00      USD   \n",
      "\n",
      "                   scraped_at    terms section  \n",
      "0  2024-02-19T08:50:05.654618  jackets     MAN  \n",
      "1  2024-02-19T08:50:06.590930  jackets     MAN  \n",
      "2  2024-02-19T08:50:07.301419  jackets     MAN  \n",
      "3  2024-02-19T08:50:07.882922  jackets     MAN  \n",
      "4  2024-02-19T08:50:08.453847  jackets     MAN  \n"
     ]
    }
   ],
   "source": [
    "print(df.head())"
   ]
  },
  {
   "cell_type": "code",
   "execution_count": 5,
   "metadata": {},
   "outputs": [
    {
     "name": "stdout",
     "output_type": "stream",
     "text": [
      "     Product ID Product Position Promotion Product Category Seasonal  \\\n",
      "247      159182   Front of Store       Yes         Clothing       No   \n",
      "248      199233            Aisle       Yes         Clothing       No   \n",
      "249      137044            Aisle        No         Clothing      Yes   \n",
      "250      154736   Front of Store       Yes         Clothing      Yes   \n",
      "251      141434   Front of Store        No         Clothing      Yes   \n",
      "\n",
      "     Sales Volume brand                                                url  \\\n",
      "247          1014  Zara  https://www.zara.com/us/en/basic-100-wool-swea...   \n",
      "248          2222  Zara  https://www.zara.com/us/en/colorblock-knit-cro...   \n",
      "249          2534  Zara  https://www.zara.com/us/en/hooded-technical-ja...   \n",
      "250          1466  Zara  https://www.zara.com/us/en/houndstooth-suit-ja...   \n",
      "251          2870  Zara  https://www.zara.com/us/en/bomber-jacket-p0534...   \n",
      "\n",
      "                  sku                                           name  \\\n",
      "247   321993245-500-2  FAUX LEATHER OVERSIZED JACKET LIMITED EDITION   \n",
      "248   330590505-500-2              CONTRASTING PATCHES BOMBER JACKET   \n",
      "249  320680326-107-39                            PATCH BOMBER JACKET   \n",
      "250  311292244-800-39          CROPPED BOMBER JACKET LIMITED EDITION   \n",
      "251  311307610-400-39                     FAUX LEATHER PUFFER JACKET   \n",
      "\n",
      "                                           description   price currency  \\\n",
      "247  Jacket made of technical fabric with padded in...  169.00      USD   \n",
      "248  Oversized jacket. Notched lapel collar and lon...  159.00      USD   \n",
      "249  Varsity jacket with elastic collar and long sl...   12.99      USD   \n",
      "250  Varsity jacket with padded interior. Rib elast...   19.90      USD   \n",
      "251  Jacket with lightly padded interior. Rib colla...   39.90      USD   \n",
      "\n",
      "                     scraped_at    terms section  \n",
      "247  2024-02-19T09:10:43.883037  jackets     MAN  \n",
      "248  2024-02-19T09:10:44.463883  jackets     MAN  \n",
      "249  2024-02-19T09:10:45.009106  jackets     MAN  \n",
      "250  2024-02-19T09:10:45.631804  jackets     MAN  \n",
      "251  2024-02-19T09:10:31.877972  jackets     MAN  \n"
     ]
    }
   ],
   "source": [
    "print(df.tail())"
   ]
  },
  {
   "cell_type": "code",
   "execution_count": 6,
   "metadata": {},
   "outputs": [
    {
     "name": "stdout",
     "output_type": "stream",
     "text": [
      "<class 'pandas.core.frame.DataFrame'>\n",
      "RangeIndex: 252 entries, 0 to 251\n",
      "Data columns (total 16 columns):\n",
      " #   Column            Non-Null Count  Dtype  \n",
      "---  ------            --------------  -----  \n",
      " 0   Product ID        252 non-null    int64  \n",
      " 1   Product Position  252 non-null    object \n",
      " 2   Promotion         252 non-null    object \n",
      " 3   Product Category  252 non-null    object \n",
      " 4   Seasonal          252 non-null    object \n",
      " 5   Sales Volume      252 non-null    int64  \n",
      " 6   brand             252 non-null    object \n",
      " 7   url               252 non-null    object \n",
      " 8   sku               252 non-null    object \n",
      " 9   name              251 non-null    object \n",
      " 10  description       250 non-null    object \n",
      " 11  price             252 non-null    float64\n",
      " 12  currency          252 non-null    object \n",
      " 13  scraped_at        252 non-null    object \n",
      " 14  terms             252 non-null    object \n",
      " 15  section           252 non-null    object \n",
      "dtypes: float64(1), int64(2), object(13)\n",
      "memory usage: 31.6+ KB\n",
      "None\n"
     ]
    }
   ],
   "source": [
    "print(df.info()) "
   ]
  },
  {
   "cell_type": "code",
   "execution_count": 9,
   "metadata": {},
   "outputs": [],
   "source": [
    "df = df.drop(columns=['Promotion','Product Position','Seasonal','url','sku'])\n"
   ]
  },
  {
   "cell_type": "code",
   "execution_count": 10,
   "metadata": {},
   "outputs": [
    {
     "name": "stdout",
     "output_type": "stream",
     "text": [
      "<class 'pandas.core.frame.DataFrame'>\n",
      "RangeIndex: 252 entries, 0 to 251\n",
      "Data columns (total 11 columns):\n",
      " #   Column            Non-Null Count  Dtype  \n",
      "---  ------            --------------  -----  \n",
      " 0   Product ID        252 non-null    int64  \n",
      " 1   Product Category  252 non-null    object \n",
      " 2   Sales Volume      252 non-null    int64  \n",
      " 3   brand             252 non-null    object \n",
      " 4   name              251 non-null    object \n",
      " 5   description       250 non-null    object \n",
      " 6   price             252 non-null    float64\n",
      " 7   currency          252 non-null    object \n",
      " 8   scraped_at        252 non-null    object \n",
      " 9   terms             252 non-null    object \n",
      " 10  section           252 non-null    object \n",
      "dtypes: float64(1), int64(2), object(8)\n",
      "memory usage: 21.8+ KB\n",
      "None\n"
     ]
    }
   ],
   "source": [
    "print(df.info())"
   ]
  },
  {
   "cell_type": "code",
   "execution_count": 11,
   "metadata": {},
   "outputs": [],
   "source": [
    "df = df.drop(columns=['terms','description','brand'])"
   ]
  },
  {
   "cell_type": "code",
   "execution_count": 12,
   "metadata": {},
   "outputs": [
    {
     "name": "stdout",
     "output_type": "stream",
     "text": [
      "<class 'pandas.core.frame.DataFrame'>\n",
      "RangeIndex: 252 entries, 0 to 251\n",
      "Data columns (total 8 columns):\n",
      " #   Column            Non-Null Count  Dtype  \n",
      "---  ------            --------------  -----  \n",
      " 0   Product ID        252 non-null    int64  \n",
      " 1   Product Category  252 non-null    object \n",
      " 2   Sales Volume      252 non-null    int64  \n",
      " 3   name              251 non-null    object \n",
      " 4   price             252 non-null    float64\n",
      " 5   currency          252 non-null    object \n",
      " 6   scraped_at        252 non-null    object \n",
      " 7   section           252 non-null    object \n",
      "dtypes: float64(1), int64(2), object(5)\n",
      "memory usage: 15.9+ KB\n",
      "None\n"
     ]
    }
   ],
   "source": [
    "print(df.info())"
   ]
  }
 ],
 "metadata": {
  "kernelspec": {
   "display_name": "Python 3",
   "language": "python",
   "name": "python3"
  },
  "language_info": {
   "codemirror_mode": {
    "name": "ipython",
    "version": 3
   },
   "file_extension": ".py",
   "mimetype": "text/x-python",
   "name": "python",
   "nbconvert_exporter": "python",
   "pygments_lexer": "ipython3",
   "version": "3.12.7"
  }
 },
 "nbformat": 4,
 "nbformat_minor": 2
}
